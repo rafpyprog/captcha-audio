{
 "cells": [
  {
   "cell_type": "code",
   "execution_count": 1,
   "metadata": {},
   "outputs": [
    {
     "ename": "RuntimeError",
     "evalue": "module compiled against API version 0xb but this version of numpy is 0xa",
     "output_type": "error",
     "traceback": [
      "\u001b[0;31m---------------------------------------------------------------------------\u001b[0m",
      "\u001b[0;31mRuntimeError\u001b[0m                              Traceback (most recent call last)",
      "\u001b[0;31mRuntimeError\u001b[0m: module compiled against API version 0xb but this version of numpy is 0xa"
     ]
    }
   ],
   "source": [
    "import glob\n",
    "import os\n",
    "import librosa\n",
    "import matplotlib.pyplot as plt\n",
    "from matplotlib import cm\n",
    "import tensorflow as tf\n",
    "from sklearn.model_selection import train_test_split\n",
    "import numpy as np\n",
    "%matplotlib inline\n",
    "plt.style.use('ggplot')"
   ]
  },
  {
   "cell_type": "code",
   "execution_count": null,
   "metadata": {},
   "outputs": [],
   "source": [
    "def windows(data, window_size):\n",
    "    start = 0    \n",
    "    while start < len(data):\n",
    "        yield int(start), int(start + window_size)\n",
    "        start += (window_size / 2)\n",
    "\n",
    "\n",
    "def get_features(audio_file):\n",
    "    X, sample_rate = librosa.load(audio_file)\n",
    "    stft = np.abs(librosa.stft(X))\n",
    "    mfccs = np.mean(librosa.feature.mfcc(y=X, sr=sample_rate, n_mfcc=40).T,axis=0)\n",
    "    chroma = np.mean(librosa.feature.chroma_stft(S=stft, sr=sample_rate).T,axis=0)\n",
    "    mel = np.mean(librosa.feature.melspectrogram(X, sr=sample_rate).T,axis=0)\n",
    "    contrast = np.mean(librosa.feature.spectral_contrast(S=stft, sr=sample_rate).T,axis=0)\n",
    "    tonnetz = np.mean(librosa.feature.tonnetz(y=librosa.effects.harmonic(X), sr = sample_rate).T, axis=0)    \n",
    "    return mfccs,chroma,mel,contrast,tonnetz\n",
    "    \n",
    "        \n",
    "def extract_features(data_dir, file_ext=\"*.wav\", bands = 60, frames = 41):\n",
    "    \n",
    "    features, labels = np.empty((0, 193)), np.empty(0)\n",
    "    \n",
    "    for dirpath, dirnames, filenames in list(os.walk(parent_dir))[1:]:\n",
    "        for fn in sorted(filenames):\n",
    "            audio_file = os.path.join(dirpath, fn)            \n",
    "            label = os.path.dirname(audio_file).split(\"/\")[-1]\n",
    "            mfccs,chroma,mel,contrast,tonnetz = get_features(audio_file)            \n",
    "            \n",
    "            ext_features = np.hstack([mfccs,chroma,mel,contrast,tonnetz])\n",
    "            features = np.vstack([features, ext_features])\n",
    "            \n",
    "            labels = np.append(labels, label)\n",
    "            \n",
    "    return np.array(features), np.array(labels, dtype=np.str)\n",
    "\n",
    "\n",
    "def one_hot_encode(labels):\n",
    "    n_labels = len(labels)\n",
    "    n_unique_labels = len(np.unique(labels))\n",
    "    one_hot_encode = np.zeros((n_labels,n_unique_labels))\n",
    "    one_hot_encode[np.arange(n_labels), labels] = 1\n",
    "    return one_hot_encode"
   ]
  },
  {
   "cell_type": "code",
   "execution_count": null,
   "metadata": {
    "scrolled": true
   },
   "outputs": [],
   "source": [
    "parent_dir = os.path.abspath('../letras')\n",
    "features, labels = extract_features(parent_dir)"
   ]
  },
  {
   "cell_type": "code",
   "execution_count": null,
   "metadata": {},
   "outputs": [],
   "source": [
    "X_train, X_test, y_train, y_test = train_test_split(features, labels, random_state=0)"
   ]
  },
  {
   "cell_type": "code",
   "execution_count": null,
   "metadata": {},
   "outputs": [],
   "source": [
    "from sklearn.neighbors import KNeighborsClassifier\n",
    "\n",
    "knn = KNeighborsClassifier(n_neighbors = 5)"
   ]
  },
  {
   "cell_type": "code",
   "execution_count": null,
   "metadata": {},
   "outputs": [],
   "source": [
    "knn.fit(X_train, y_train)"
   ]
  },
  {
   "cell_type": "code",
   "execution_count": null,
   "metadata": {},
   "outputs": [],
   "source": [
    "knn.score(X_test, y_test)"
   ]
  },
  {
   "cell_type": "code",
   "execution_count": null,
   "metadata": {},
   "outputs": [],
   "source": [
    "knn.predict([features[0]])"
   ]
  },
  {
   "cell_type": "code",
   "execution_count": null,
   "metadata": {},
   "outputs": [],
   "source": [
    "def get_letter_features(letter, n):\n",
    "    ft = np.empty((0, 193))\n",
    "    audio_file = os.path.join(parent_dir, letter, str(n).zfill(3) + '.wav')\n",
    "    mfccs,chroma,mel,contrast,tonnetz = get_features(audio_file)            \n",
    "    ext_features = np.hstack([mfccs,chroma,mel,contrast,tonnetz])\n",
    "    ft = np.array(np.vstack([ft, ext_features]))\n",
    "    return ft"
   ]
  },
  {
   "cell_type": "markdown",
   "metadata": {},
   "source": [
    "## Performance dos caracteres alfabéticos"
   ]
  },
  {
   "cell_type": "code",
   "execution_count": null,
   "metadata": {},
   "outputs": [],
   "source": [
    "letters = range(ord('a'), ord('z') + 1)\n",
    "for i in letters:\n",
    "    char = chr(i)    \n",
    "    n = 1000\n",
    "    valid = 0\n",
    "    for i in range(1, n + 1):\n",
    "        try:\n",
    "            letter = get_letter_features(char, i)\n",
    "            prediction = knn.predict(letter)\n",
    "            if prediction == char:        \n",
    "                valid += 1\n",
    "        except:\n",
    "            print(char, ':', round(float(valid) / i, 2))\n",
    "            break            "
   ]
  },
  {
   "cell_type": "markdown",
   "metadata": {},
   "source": [
    "## Performance dos caracteres numéricos"
   ]
  },
  {
   "cell_type": "code",
   "execution_count": null,
   "metadata": {},
   "outputs": [],
   "source": [
    "nums = range(1, 9)\n",
    "for i in nums:    \n",
    "    char = str(i)\n",
    "    n = 1000\n",
    "    valid = 0\n",
    "    for i in range(1, n + 1):\n",
    "        try:\n",
    "            letter = get_letter_features(char, i)\n",
    "            prediction = knn.predict(letter)\n",
    "            if prediction == char:        \n",
    "                valid += 1\n",
    "        except:\n",
    "            print(char, ':', round(float(valid) / i, 2))\n",
    "            break            "
   ]
  },
  {
   "cell_type": "code",
   "execution_count": null,
   "metadata": {},
   "outputs": [],
   "source": []
  }
 ],
 "metadata": {
  "kernelspec": {
   "display_name": "Python 3",
   "language": "python",
   "name": "python3"
  },
  "language_info": {
   "codemirror_mode": {
    "name": "ipython",
    "version": 2
   },
   "file_extension": ".py",
   "mimetype": "text/x-python",
   "name": "python",
   "nbconvert_exporter": "python",
   "pygments_lexer": "ipython2",
   "version": "2.7.12"
  }
 },
 "nbformat": 4,
 "nbformat_minor": 1
}
