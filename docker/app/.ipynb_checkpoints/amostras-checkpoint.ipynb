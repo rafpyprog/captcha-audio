{
 "cells": [
  {
   "cell_type": "markdown",
   "metadata": {},
   "source": [
    "# Modelo"
   ]
  },
  {
   "cell_type": "code",
   "execution_count": 5,
   "metadata": {},
   "outputs": [],
   "source": [
    "import os"
   ]
  },
  {
   "cell_type": "code",
   "execution_count": 6,
   "metadata": {},
   "outputs": [
    {
     "data": {
      "text/plain": [
       "'/captcha-audio'"
      ]
     },
     "execution_count": 6,
     "metadata": {},
     "output_type": "execute_result"
    }
   ],
   "source": [
    "os.getcwd()"
   ]
  },
  {
   "cell_type": "code",
   "execution_count": 11,
   "metadata": {},
   "outputs": [],
   "source": [
    "amostras = []\n",
    "for dirpath, dirnames, filenames in os.walk('/captcha-audio/letras/'):\n",
    "    filecount = len(filenames)\n",
    "    amostras.append([dirpath, filecount])    "
   ]
  },
  {
   "cell_type": "code",
   "execution_count": 12,
   "metadata": {},
   "outputs": [
    {
     "data": {
      "text/plain": [
       "[['/captcha-audio/letras/0', 0],\n",
       " ['/captcha-audio/letras/1', 5],\n",
       " ['/captcha-audio/letras/2', 8],\n",
       " ['/captcha-audio/letras/a', 9],\n",
       " ['/captcha-audio/letras/g', 9],\n",
       " ['/captcha-audio/letras/6', 10],\n",
       " ['/captcha-audio/letras/3', 11],\n",
       " ['/captcha-audio/letras/i', 11],\n",
       " ['/captcha-audio/letras/f', 12],\n",
       " ['/captcha-audio/letras/7', 12],\n",
       " ['/captcha-audio/letras/l', 12],\n",
       " ['/captcha-audio/letras/8', 12],\n",
       " ['/captcha-audio/letras/9', 13],\n",
       " ['/captcha-audio/letras/5', 14],\n",
       " ['/captcha-audio/letras/4', 14],\n",
       " ['/captcha-audio/letras/c', 14],\n",
       " ['/captcha-audio/letras/j', 15],\n",
       " ['/captcha-audio/letras/o', 17],\n",
       " ['/captcha-audio/letras/e', 18],\n",
       " ['/captcha-audio/letras/d', 19],\n",
       " ['/captcha-audio/letras/r', 20],\n",
       " ['/captcha-audio/letras/y', 21],\n",
       " ['/captcha-audio/letras/s', 21],\n",
       " ['/captcha-audio/letras/q', 21],\n",
       " ['/captcha-audio/letras/z', 22],\n",
       " ['/captcha-audio/letras/b', 24],\n",
       " ['/captcha-audio/letras/m', 24],\n",
       " ['/captcha-audio/letras/n', 24],\n",
       " ['/captcha-audio/letras/x', 25],\n",
       " ['/captcha-audio/letras/v', 25],\n",
       " ['/captcha-audio/letras/h', 25],\n",
       " ['/captcha-audio/letras/t', 25],\n",
       " ['/captcha-audio/letras/u', 26],\n",
       " ['/captcha-audio/letras/p', 27],\n",
       " ['/captcha-audio/letras/w', 29],\n",
       " ['/captcha-audio/letras/k', 31]]"
      ]
     },
     "execution_count": 12,
     "metadata": {},
     "output_type": "execute_result"
    }
   ],
   "source": [
    "amostras = amostras[1:]\n",
    "sorted(amostras, key=lambda x: x[1])"
   ]
  },
  {
   "cell_type": "code",
   "execution_count": null,
   "metadata": {},
   "outputs": [],
   "source": []
  }
 ],
 "metadata": {
  "kernelspec": {
   "display_name": "Python 3",
   "language": "python",
   "name": "python3"
  },
  "language_info": {
   "codemirror_mode": {
    "name": "ipython",
    "version": 3
   },
   "file_extension": ".py",
   "mimetype": "text/x-python",
   "name": "python",
   "nbconvert_exporter": "python",
   "pygments_lexer": "ipython3",
   "version": "3.6.3"
  }
 },
 "nbformat": 4,
 "nbformat_minor": 2
}
