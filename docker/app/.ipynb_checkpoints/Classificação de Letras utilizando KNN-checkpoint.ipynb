{
 "cells": [
  {
   "cell_type": "code",
   "execution_count": 71,
   "metadata": {},
   "outputs": [],
   "source": [
    "import glob\n",
    "import os"
   ]
  },
  {
   "cell_type": "code",
   "execution_count": 72,
   "metadata": {},
   "outputs": [],
   "source": [
    "import librosa\n",
    "import numpy as np\n",
    "from sklearn.model_selection import train_test_split\n",
    "from sklearn.neighbors import KNeighborsClassifier"
   ]
  },
  {
   "cell_type": "code",
   "execution_count": 73,
   "metadata": {},
   "outputs": [],
   "source": [
    "DATA_DIR = os.path.abspath('./letras')"
   ]
  },
  {
   "cell_type": "code",
   "execution_count": 76,
   "metadata": {},
   "outputs": [],
   "source": [
    "def windows(data, window_size):\n",
    "    start = 0    \n",
    "    while start < len(data):\n",
    "        yield int(start), int(start + window_size)\n",
    "        start += (window_size / 2)\n",
    "\n",
    "\n",
    "def get_features(audio_file):\n",
    "    X, sample_rate = librosa.load(audio_file)\n",
    "    stft = np.abs(librosa.stft(X))\n",
    "    mfccs = np.mean(librosa.feature.mfcc(y=X, sr=sample_rate, n_mfcc=40).T,axis=0)\n",
    "    chroma = np.mean(librosa.feature.chroma_stft(S=stft, sr=sample_rate).T,axis=0)\n",
    "    mel = np.mean(librosa.feature.melspectrogram(X, sr=sample_rate).T,axis=0)\n",
    "    contrast = np.mean(librosa.feature.spectral_contrast(S=stft, sr=sample_rate).T,axis=0)\n",
    "    tonnetz = np.mean(librosa.feature.tonnetz(y=librosa.effects.harmonic(X), sr = sample_rate).T, axis=0)    \n",
    "    return mfccs,chroma,mel,contrast,tonnetz\n",
    "    \n",
    "        \n",
    "def extract_features(data_dir, file_ext=\"*.wav\", bands = 60, frames = 41):\n",
    "    \n",
    "    features, labels = np.empty((0, 193)), np.empty(0)\n",
    "    \n",
    "    for dirpath, dirnames, filenames in list(os.walk(data_dir))[1:]:\n",
    "        for fn in sorted(filenames):\n",
    "            audio_file = os.path.join(dirpath, fn)            \n",
    "            label = os.path.dirname(audio_file).split(\"/\")[-1]\n",
    "            mfccs,chroma,mel,contrast,tonnetz = get_features(audio_file)            \n",
    "            \n",
    "            ext_features = np.hstack([mfccs,chroma,mel,contrast,tonnetz])\n",
    "            features = np.vstack([features, ext_features])\n",
    "            \n",
    "            labels = np.append(labels, label)\n",
    "            \n",
    "    return np.array(features), np.array(labels, dtype=np.str)"
   ]
  },
  {
   "cell_type": "code",
   "execution_count": 75,
   "metadata": {
    "scrolled": true
   },
   "outputs": [],
   "source": [
    "features, labels = extract_features(DATA_DIR)"
   ]
  },
  {
   "cell_type": "code",
   "execution_count": 107,
   "metadata": {},
   "outputs": [],
   "source": [
    "X_train, X_test, y_train, y_test = train_test_split(features, labels, random_state=0)"
   ]
  },
  {
   "cell_type": "code",
   "execution_count": 140,
   "metadata": {},
   "outputs": [],
   "source": [
    "knn = KNeighborsClassifier(n_neighbors = 5)"
   ]
  },
  {
   "cell_type": "code",
   "execution_count": 141,
   "metadata": {},
   "outputs": [
    {
     "data": {
      "text/plain": [
       "KNeighborsClassifier(algorithm='auto', leaf_size=30, metric='minkowski',\n",
       "           metric_params=None, n_jobs=1, n_neighbors=5, p=2,\n",
       "           weights='uniform')"
      ]
     },
     "execution_count": 141,
     "metadata": {},
     "output_type": "execute_result"
    }
   ],
   "source": [
    "knn.fit(X_train, y_train)"
   ]
  },
  {
   "cell_type": "code",
   "execution_count": 142,
   "metadata": {},
   "outputs": [],
   "source": [
    "#0.9130"
   ]
  },
  {
   "cell_type": "code",
   "execution_count": 143,
   "metadata": {},
   "outputs": [
    {
     "data": {
      "text/plain": [
       "0.89010989010989006"
      ]
     },
     "execution_count": 143,
     "metadata": {},
     "output_type": "execute_result"
    }
   ],
   "source": [
    "knn.score(X_test, y_test)"
   ]
  },
  {
   "cell_type": "code",
   "execution_count": 144,
   "metadata": {},
   "outputs": [],
   "source": [
    "def extract_audio_file_features(audio_file):\n",
    "    ft = np.empty((0, 193))\n",
    "    mfccs,chroma,mel,contrast,tonnetz = get_features(audio_file)            \n",
    "    ext_features = np.hstack([mfccs,chroma,mel,contrast,tonnetz])\n",
    "    ft = np.array(np.vstack([ft, ext_features]))\n",
    "    return ft    "
   ]
  },
  {
   "cell_type": "code",
   "execution_count": 145,
   "metadata": {},
   "outputs": [],
   "source": [
    "def get_model_data_file(letter, n):\n",
    "    audio_file = os.path.join(DATA_DIR, letter, str(n).zfill(3) + '.wav')\n",
    "    return audio_file"
   ]
  },
  {
   "cell_type": "markdown",
   "metadata": {},
   "source": [
    "## Performance dos caracteres alfabéticos"
   ]
  },
  {
   "cell_type": "code",
   "execution_count": 146,
   "metadata": {},
   "outputs": [
    {
     "name": "stdout",
     "output_type": "stream",
     "text": [
      "a : 0.91\n",
      "b : 0.87\n",
      "c : 0.94\n",
      "d : 0.73\n",
      "e : 0.95\n",
      "f : 0.69\n",
      "g : 0.85\n",
      "h : 0.86\n",
      "i : 0.64\n",
      "j : 0.9\n",
      "k : 0.97\n",
      "l : 0.88\n",
      "m : 0.94\n",
      "n : 0.96\n",
      "o : 0.85\n",
      "p : 0.94\n",
      "q : 0.92\n",
      "r : 0.96\n",
      "s : 0.65\n",
      "t : 0.9\n",
      "u : 0.97\n",
      "v : 0.94\n",
      "w : 0.97\n",
      "x : 0.97\n",
      "y : 0.92\n",
      "z : 0.92\n"
     ]
    }
   ],
   "source": [
    "letters = range(ord('a'), ord('z') + 1)\n",
    "for i in letters:\n",
    "    char = chr(i)    \n",
    "    n = 1000\n",
    "    valid = 0\n",
    "    for i in range(1, n + 1):\n",
    "        try:\n",
    "            audio_file = get_model_data_file(char, i)            \n",
    "            audio_features = extract_audio_file_features(audio_file)            \n",
    "            prediction = knn.predict(audio_features)\n",
    "            if prediction == char:        \n",
    "                valid += 1\n",
    "        except:\n",
    "            print(char, ':', round(float(valid) / i, 2))\n",
    "            break            "
   ]
  },
  {
   "cell_type": "markdown",
   "metadata": {},
   "source": [
    "## Performance dos caracteres numéricos"
   ]
  },
  {
   "cell_type": "code",
   "execution_count": 147,
   "metadata": {},
   "outputs": [
    {
     "name": "stdout",
     "output_type": "stream",
     "text": [
      "1 : 0.57\n",
      "2 : 0.8\n",
      "3 : 0.93\n",
      "4 : 0.89\n",
      "5 : 0.81\n",
      "6 : 0.71\n",
      "7 : 0.85\n",
      "8 : 0.83\n"
     ]
    }
   ],
   "source": [
    "for i in range(1, 9):\n",
    "    char = str(i)    \n",
    "    n = 1000\n",
    "    valid = 0\n",
    "    for i in range(1, n + 1):\n",
    "        try:\n",
    "            audio_file = get_model_data_file(char, i)            \n",
    "            audio_features = extract_audio_file_features(audio_file)            \n",
    "            prediction = knn.predict(audio_features)\n",
    "            if prediction == char:        \n",
    "                valid += 1\n",
    "        except:\n",
    "            print(char, ':', round(float(valid) / i, 2))\n",
    "            break            "
   ]
  },
  {
   "cell_type": "markdown",
   "metadata": {},
   "source": [
    "## Teste com dados reais"
   ]
  },
  {
   "cell_type": "code",
   "execution_count": 159,
   "metadata": {},
   "outputs": [
    {
     "name": "stdout",
     "output_type": "stream",
     "text": [
      "['q']\n",
      "['4']\n",
      "['v']\n",
      "['3']\n",
      "['5']\n",
      "['5']\n"
     ]
    }
   ],
   "source": [
    "data = sorted([i for i in os.listdir() if i.endswith('.wav')])\n",
    "for audio_file in data:\n",
    "    audio_features = extract_audio_file_features(audio_file)            \n",
    "    prediction = knn.predict(audio_features)    \n",
    "    print(prediction)    "
   ]
  },
  {
   "cell_type": "code",
   "execution_count": null,
   "metadata": {},
   "outputs": [],
   "source": []
  }
 ],
 "metadata": {
  "kernelspec": {
   "display_name": "Python 3",
   "language": "python",
   "name": "python3"
  },
  "language_info": {
   "codemirror_mode": {
    "name": "ipython",
    "version": 3
   },
   "file_extension": ".py",
   "mimetype": "text/x-python",
   "name": "python",
   "nbconvert_exporter": "python",
   "pygments_lexer": "ipython3",
   "version": "3.6.3"
  }
 },
 "nbformat": 4,
 "nbformat_minor": 1
}
