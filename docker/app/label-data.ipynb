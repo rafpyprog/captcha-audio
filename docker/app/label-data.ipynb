{
 "cells": [
  {
   "cell_type": "markdown",
   "metadata": {},
   "source": [
    "# Classificação dos Captchas"
   ]
  },
  {
   "cell_type": "code",
   "execution_count": 1,
   "metadata": {},
   "outputs": [],
   "source": [
    "import io\n",
    "import os\n",
    "import tempfile"
   ]
  },
  {
   "cell_type": "code",
   "execution_count": 20,
   "metadata": {},
   "outputs": [],
   "source": [
    "from IPython import display\n",
    "from IPython.display import Audio\n",
    "from PIL import Image\n",
    "import sqlite3"
   ]
  },
  {
   "cell_type": "code",
   "execution_count": 3,
   "metadata": {},
   "outputs": [],
   "source": [
    "from database import Database\n",
    "from splitaudio import solve_captcha"
   ]
  },
  {
   "cell_type": "code",
   "execution_count": 4,
   "metadata": {},
   "outputs": [],
   "source": [
    "def validate(solution):\n",
    "    ''' Valida a resposta a um captcha '''\n",
    "    return solution.isalpha() and len(solution) == 6"
   ]
  },
  {
   "cell_type": "code",
   "execution_count": 5,
   "metadata": {},
   "outputs": [],
   "source": [
    "db = Database()"
   ]
  },
  {
   "cell_type": "code",
   "execution_count": null,
   "metadata": {},
   "outputs": [],
   "source": [
    "for rowid, image, audio, *_ in list(db.get_captchas(split=99)):\n",
    "    print(rowid)\n",
    "    Audio(audio, autoplay=True)\n",
    "    with tempfile.TemporaryDirectory() as tmp_dir:\n",
    "        os.chdir(tmp_dir)\n",
    "        solution = solve_captcha(io.BytesIO(audio), tmp_dir)\n",
    "        if not solution:            \n",
    "            db.delete_captcha(rowid)        \n",
    "        else:\n",
    "            display.clear_output()\n",
    "            db.set_split(rowid, True)\n",
    "            image = Image.open(io.BytesIO(image))\n",
    "            display.display(image)\n",
    "            solution = input('captcha: ').lower()"
   ]
  },
  {
   "cell_type": "code",
   "execution_count": null,
   "metadata": {},
   "outputs": [],
   "source": [
    "\n",
    "from IPython.display import *\n",
    "Audio(captcha, autoplay=True)"
   ]
  },
  {
   "cell_type": "code",
   "execution_count": null,
   "metadata": {},
   "outputs": [],
   "source": [
    "captcha = db.get_captcha(201).fetchone()[2]\n",
    "with tempfile.TemporaryDirectory() as tmp_dir:\n",
    "    os.chdir(tmp_dir)\n",
    "    solve_captcha(io.BytesIO(captcha), temp_dir=tmp_dir, clean=False)\n",
    "    for i in os.listdir():\n",
    "        print(os.path.abspath(i))\n",
    "    "
   ]
  },
  {
   "cell_type": "code",
   "execution_count": 12,
   "metadata": {},
   "outputs": [],
   "source": [
    "rowid, image, audio, *_ = db.get_captcha(201).fetchone()"
   ]
  },
  {
   "cell_type": "code",
   "execution_count": 24,
   "metadata": {},
   "outputs": [
    {
     "data": {
      "image/png": "[encoded data removed]",
      "text/plain": [
       "<IPython.core.display.Image object>"
      ]
     },
     "execution_count": 24,
     "metadata": {},
     "output_type": "execute_result"
    }
   ],
   "source": [
    "display.Image(image)"
   ]
  },
  {
   "cell_type": "code",
   "execution_count": 6,
   "metadata": {},
   "outputs": [
    {
     "name": "stdout",
     "output_type": "stream",
     "text": [
      "    Resultado: 0.125 13.2 SOLVED!\n"
     ]
    }
   ],
   "source": [
    "captcha = db.get_captcha(201).fetchone()[2]\n",
    "with tempfile.TemporaryDirectory() as tmp_dir:\n",
    "    os.chdir(tmp_dir)\n",
    "    a = solve_captcha(io.BytesIO(captcha), temp_dir=tmp_dir, clean=False)"
   ]
  },
  {
   "cell_type": "code",
   "execution_count": 7,
   "metadata": {},
   "outputs": [
    {
     "data": {
      "text/plain": [
       "((0.125, 13.2),\n",
       " [<_io.BytesIO at 0x7f16307f9308>,\n",
       "  <_io.BytesIO at 0x7f16307f92b0>,\n",
       "  <_io.BytesIO at 0x7f16307f9258>,\n",
       "  <_io.BytesIO at 0x7f16307f9200>,\n",
       "  <_io.BytesIO at 0x7f16307f93b8>,\n",
       "  <_io.BytesIO at 0x7f16307f95c8>])"
      ]
     },
     "execution_count": 7,
     "metadata": {},
     "output_type": "execute_result"
    }
   ],
   "source": [
    "a"
   ]
  },
  {
   "cell_type": "code",
   "execution_count": 27,
   "metadata": {},
   "outputs": [
    {
     "data": {
      "text/html": [
       "\n",
       "                <audio controls=\"controls\" autoplay=\"autoplay\">\n",
       "                    <source src=\"data:audio/wav;base64,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\" type=\"audio/wav\" />\n",
       "                    Your browser does not support the audio element.\n",
       "                </audio>\n",
       "              "
      ],
      "text/plain": [
       "<IPython.lib.display.Audio object>"
      ]
     },
     "execution_count": 27,
     "metadata": {},
     "output_type": "execute_result"
    }
   ],
   "source": [
    "from IPython.display import *\n",
    "Audio(a[1][4].getvalue(), autoplay=True)"
   ]
  },
  {
   "cell_type": "code",
   "execution_count": null,
   "metadata": {},
   "outputs": [],
   "source": []
  }
 ],
 "metadata": {
  "kernelspec": {
   "display_name": "Python 3",
   "language": "python",
   "name": "python3"
  },
  "language_info": {
   "codemirror_mode": {
    "name": "ipython",
    "version": 3
   },
   "file_extension": ".py",
   "mimetype": "text/x-python",
   "name": "python",
   "nbconvert_exporter": "python",
   "pygments_lexer": "ipython3",
   "version": "3.6.2"
  }
 },
 "nbformat": 4,
 "nbformat_minor": 2
}
