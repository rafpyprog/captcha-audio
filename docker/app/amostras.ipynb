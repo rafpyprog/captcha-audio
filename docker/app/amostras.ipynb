{
 "cells": [
  {
   "cell_type": "markdown",
   "metadata": {},
   "source": [
    "# Amostras"
   ]
  },
  {
   "cell_type": "code",
   "execution_count": 7,
   "metadata": {},
   "outputs": [],
   "source": [
    "import os"
   ]
  },
  {
   "cell_type": "code",
   "execution_count": 12,
   "metadata": {},
   "outputs": [],
   "source": [
    "DATA_DIR = os.path.abspath('./letras')"
   ]
  },
  {
   "cell_type": "code",
   "execution_count": 13,
   "metadata": {},
   "outputs": [],
   "source": [
    "amostras = []\n",
    "for dirpath, dirnames, filenames in os.walk(DATA_DIR):\n",
    "    filecount = len(filenames)\n",
    "    amostras.append([dirpath, filecount])    "
   ]
  },
  {
   "cell_type": "code",
   "execution_count": 14,
   "metadata": {},
   "outputs": [
    {
     "data": {
      "text/plain": [
       "[['/home/rafael/Documentos/Projetos/captcha-audio-oficial/docker/app/letras/0',\n",
       "  0],\n",
       " ['/home/rafael/Documentos/Projetos/captcha-audio-oficial/docker/app/letras/1',\n",
       "  6],\n",
       " ['/home/rafael/Documentos/Projetos/captcha-audio-oficial/docker/app/letras/2',\n",
       "  9],\n",
       " ['/home/rafael/Documentos/Projetos/captcha-audio-oficial/docker/app/letras/a',\n",
       "  9],\n",
       " ['/home/rafael/Documentos/Projetos/captcha-audio-oficial/docker/app/letras/g',\n",
       "  9],\n",
       " ['/home/rafael/Documentos/Projetos/captcha-audio-oficial/docker/app/letras/6',\n",
       "  10],\n",
       " ['/home/rafael/Documentos/Projetos/captcha-audio-oficial/docker/app/letras/3',\n",
       "  11],\n",
       " ['/home/rafael/Documentos/Projetos/captcha-audio-oficial/docker/app/letras/i',\n",
       "  11],\n",
       " ['/home/rafael/Documentos/Projetos/captcha-audio-oficial/docker/app/letras/f',\n",
       "  12],\n",
       " ['/home/rafael/Documentos/Projetos/captcha-audio-oficial/docker/app/letras/7',\n",
       "  12],\n",
       " ['/home/rafael/Documentos/Projetos/captcha-audio-oficial/docker/app/letras/9',\n",
       "  13],\n",
       " ['/home/rafael/Documentos/Projetos/captcha-audio-oficial/docker/app/letras/5',\n",
       "  14],\n",
       " ['/home/rafael/Documentos/Projetos/captcha-audio-oficial/docker/app/letras/l',\n",
       "  14],\n",
       " ['/home/rafael/Documentos/Projetos/captcha-audio-oficial/docker/app/letras/8',\n",
       "  14],\n",
       " ['/home/rafael/Documentos/Projetos/captcha-audio-oficial/docker/app/letras/j',\n",
       "  15],\n",
       " ['/home/rafael/Documentos/Projetos/captcha-audio-oficial/docker/app/letras/4',\n",
       "  15],\n",
       " ['/home/rafael/Documentos/Projetos/captcha-audio-oficial/docker/app/letras/c',\n",
       "  15],\n",
       " ['/home/rafael/Documentos/Projetos/captcha-audio-oficial/docker/app/letras/o',\n",
       "  17],\n",
       " ['/home/rafael/Documentos/Projetos/captcha-audio-oficial/docker/app/letras/e',\n",
       "  18],\n",
       " ['/home/rafael/Documentos/Projetos/captcha-audio-oficial/docker/app/letras/d',\n",
       "  20],\n",
       " ['/home/rafael/Documentos/Projetos/captcha-audio-oficial/docker/app/letras/r',\n",
       "  20],\n",
       " ['/home/rafael/Documentos/Projetos/captcha-audio-oficial/docker/app/letras/y',\n",
       "  21],\n",
       " ['/home/rafael/Documentos/Projetos/captcha-audio-oficial/docker/app/letras/s',\n",
       "  21],\n",
       " ['/home/rafael/Documentos/Projetos/captcha-audio-oficial/docker/app/letras/z',\n",
       "  22],\n",
       " ['/home/rafael/Documentos/Projetos/captcha-audio-oficial/docker/app/letras/q',\n",
       "  22],\n",
       " ['/home/rafael/Documentos/Projetos/captcha-audio-oficial/docker/app/letras/n',\n",
       "  24],\n",
       " ['/home/rafael/Documentos/Projetos/captcha-audio-oficial/docker/app/letras/h',\n",
       "  24],\n",
       " ['/home/rafael/Documentos/Projetos/captcha-audio-oficial/docker/app/letras/b',\n",
       "  25],\n",
       " ['/home/rafael/Documentos/Projetos/captcha-audio-oficial/docker/app/letras/x',\n",
       "  25],\n",
       " ['/home/rafael/Documentos/Projetos/captcha-audio-oficial/docker/app/letras/m',\n",
       "  25],\n",
       " ['/home/rafael/Documentos/Projetos/captcha-audio-oficial/docker/app/letras/t',\n",
       "  26],\n",
       " ['/home/rafael/Documentos/Projetos/captcha-audio-oficial/docker/app/letras/p',\n",
       "  27],\n",
       " ['/home/rafael/Documentos/Projetos/captcha-audio-oficial/docker/app/letras/v',\n",
       "  27],\n",
       " ['/home/rafael/Documentos/Projetos/captcha-audio-oficial/docker/app/letras/u',\n",
       "  28],\n",
       " ['/home/rafael/Documentos/Projetos/captcha-audio-oficial/docker/app/letras/w',\n",
       "  30],\n",
       " ['/home/rafael/Documentos/Projetos/captcha-audio-oficial/docker/app/letras/k',\n",
       "  31]]"
      ]
     },
     "execution_count": 14,
     "metadata": {},
     "output_type": "execute_result"
    }
   ],
   "source": [
    "amostras = amostras[1:]\n",
    "sorted(amostras, key=lambda x: x[1])"
   ]
  },
  {
   "cell_type": "code",
   "execution_count": 8,
   "metadata": {},
   "outputs": [
    {
     "ename": "SyntaxError",
     "evalue": "Missing parentheses in call to 'print'. Did you mean print(int 'You pressed Ctrl+C! - EXIT')? (audioTrainTest.py, line 24)",
     "output_type": "error",
     "traceback": [
      "Traceback \u001b[0;36m(most recent call last)\u001b[0m:\n",
      "  File \u001b[1;32m\"/usr/lib/python3.6/site-packages/IPython/core/interactiveshell.py\"\u001b[0m, line \u001b[1;32m2910\u001b[0m, in \u001b[1;35mrun_code\u001b[0m\n    exec(code_obj, self.user_global_ns, self.user_ns)\n",
      "\u001b[0;36m  File \u001b[0;32m\"<ipython-input-8-f74de7886113>\"\u001b[0;36m, line \u001b[0;32m1\u001b[0;36m, in \u001b[0;35m<module>\u001b[0;36m\u001b[0m\n\u001b[0;31m    from pyAudioAnalysis import audioTrainTest as aT\u001b[0m\n",
      "\u001b[0;36m  File \u001b[0;32m\"/usr/lib/python3.6/site-packages/pyAudioAnalysis/audioTrainTest.py\"\u001b[0;36m, line \u001b[0;32m24\u001b[0m\n\u001b[0;31m    print 'You pressed Ctrl+C! - EXIT'\u001b[0m\n\u001b[0m                                     ^\u001b[0m\n\u001b[0;31mSyntaxError\u001b[0m\u001b[0;31m:\u001b[0m Missing parentheses in call to 'print'. Did you mean print(int 'You pressed Ctrl+C! - EXIT')?\n"
     ]
    }
   ],
   "source": [
    "from pyAudioAnalysis import audioTrainTest as aT\n",
    "aT.featureAndTrain(set([i[0] for i in amostras]), 1.0, 1.0, aT.shortTermWindow, aT.shortTermStep, \"svm\", \"svmSMtemp\", False)"
   ]
  },
  {
   "cell_type": "code",
   "execution_count": null,
   "metadata": {},
   "outputs": [],
   "source": [
    "aT.fileClassification(\"data/doremi.wav\", \"svmSMtemp\",\"svm\")\n",
    "Result:\n",
    "(0.0, array([ 0.90156761,  0.09843239]), ['music', 'speech'])"
   ]
  }
 ],
 "metadata": {
  "kernelspec": {
   "display_name": "Python 3",
   "language": "python",
   "name": "python3"
  },
  "language_info": {
   "codemirror_mode": {
    "name": "ipython",
    "version": 2
   },
   "file_extension": ".py",
   "mimetype": "text/x-python",
   "name": "python",
   "nbconvert_exporter": "python",
   "pygments_lexer": "ipython2",
   "version": "2.7.12"
  }
 },
 "nbformat": 4,
 "nbformat_minor": 2
}
